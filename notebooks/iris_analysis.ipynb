{
 "cells": [
  {
   "cell_type": "code",
   "execution_count": null,
   "id": "9f092beb",
   "metadata": {
    "vscode": {
     "languageId": "plaintext"
    }
   },
   "outputs": [],
   "source": [
    "```json\n",
    "{\n",
    " \"cells\": [\n",
    "  {\n",
    "   \"cell_type\": \"markdown\",\n",
    "   \"metadata\": {},\n",
    "   \"source\": [\n",
    "    \"# Iris Dataset Analysis - Enhanced MVP\\n\",\n",
    "    \"\\n\",\n",
    "    \"This notebook provides an interactive analysis of the Iris dataset with multiple ML models.\"\n",
    "   ]\n",
    "  },\n",
    "  {\n",
    "   \"cell_type\": \"code\",\n",
    "   \"execution_count\": null,\n",
    "   \"metadata\": {},\n",
    "   \"source\": [\n",
    "    \"# Import necessary libraries\\n\",\n",
    "    \"import sys\\n\",\n",
    "    \"sys.path.append('../')\\n\",\n",
    "    \"\\n\",\n",
    "    \"from src.data_processing import DataProcessor\\n\",\n",
    "    \"from src.model import ModelTrainer\\n\",\n",
    "    \"from src.visualization import DataVisualizer\\n\",\n",
    "    \"\\n\",\n",
    "    \"# Initialize components\\n\",\n",
    "    \"data_processor = DataProcessor()\\n\",\n",
    "    \"model_trainer = ModelTrainer()\\n\",\n",
    "    \"visualizer = DataVisualizer()\"\n",
    "   ]\n",
    "  },\n",
    "  {\n",
    "   \"cell_type\": \"code\",\n",
    "   \"execution_count\": null,\n",
    "   \"metadata\": {},\n",
    "   \"source\": [\n",
    "    \"# Load and explore data\\n\",\n",
    "    \"X, y, y_labels, target_names = data_processor.load_iris_data()\\n\",\n",
    "    \"exploration_summary = data_processor.explore_data(X, y_labels)\"\n",
    "   ]\n",
    "  },\n",
    "  {\n",
    "   \"cell_type\": \"code\",\n",
    "   \"execution_count\": null,\n",
    "   \"metadata\": {},\n",
    "   \"source\": [\n",
    "    \"# Interactive visualizations\\n\",\n",
    "    \"visualizer.plot_data_distribution(X, y_labels)\\n\",\n",
    "    \"visualizer.plot_correlation_matrix(X)\"\n",
    "   ]\n",
    "  }\n",
    " ],\n",
    " \"metadata\": {\n",
    "  \"kernelspec\": {\n",
    "   \"display_name\": \"Python 3\",\n",
    "   \"language\": \"python\",\n",
    "   \"name\": \"python3\"\n",
    "  }\n",
    " },\n",
    " \"nbformat\": 4,\n",
    " \"nbformat_minor\": 4\n",
    "}\n",
    "```"
   ]
  }
 ],
 "metadata": {
  "language_info": {
   "name": "python"
  }
 },
 "nbformat": 4,
 "nbformat_minor": 5
}
